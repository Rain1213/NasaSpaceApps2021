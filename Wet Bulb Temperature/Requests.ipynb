{
  "nbformat": 4,
  "nbformat_minor": 0,
  "metadata": {
    "colab": {
      "name": "Requests",
      "provenance": [],
      "collapsed_sections": []
    },
    "kernelspec": {
      "name": "python3",
      "display_name": "Python 3"
    },
    "language_info": {
      "name": "python"
    }
  },
  "cells": [
    {
      "cell_type": "code",
      "metadata": {
        "id": "3vYNaCvtEbMe",
        "colab": {
          "base_uri": "https://localhost:8080/"
        },
        "outputId": "2b75ee40-2606-4f78-9401-9352199d8ccc"
      },
      "source": [
        "pip install xmltodict"
      ],
      "execution_count": 1,
      "outputs": [
        {
          "output_type": "stream",
          "name": "stdout",
          "text": [
            "Collecting xmltodict\n",
            "  Downloading xmltodict-0.12.0-py2.py3-none-any.whl (9.2 kB)\n",
            "Installing collected packages: xmltodict\n",
            "Successfully installed xmltodict-0.12.0\n"
          ]
        }
      ]
    },
    {
      "cell_type": "code",
      "metadata": {
        "id": "yOMSUv5fEHMm"
      },
      "source": [
        "import requests\n",
        "import xmltodict\n",
        "import pandas as pd\n",
        "from math import atan\n",
        "\n",
        "import pprint"
      ],
      "execution_count": 2,
      "outputs": []
    },
    {
      "cell_type": "markdown",
      "metadata": {
        "id": "9ks85SWUhu1e"
      },
      "source": [
        "# Helper Functions"
      ]
    },
    {
      "cell_type": "code",
      "metadata": {
        "id": "5GxqJPNsa2xd"
      },
      "source": [
        "def fahrenheitToCelsius(faren):\n",
        "  return float((faren - 32) * (5/9))"
      ],
      "execution_count": 3,
      "outputs": []
    },
    {
      "cell_type": "code",
      "metadata": {
        "id": "aU7KP-rYaFFZ"
      },
      "source": [
        "def calcWetBulb(temp, rh):\n",
        "  term1 = temp*atan(0.151977 * (rh + 8.313659)**(1/2))\n",
        "  term2 = atan(temp + rh) - atan(rh - 1.676331)\n",
        "  term3 = 0.00391838 *(rh)**(3/2) * atan(0.023101 * rh) - 4.686035\n",
        "\n",
        "  return term1 + term2 + term3"
      ],
      "execution_count": 4,
      "outputs": []
    },
    {
      "cell_type": "markdown",
      "metadata": {
        "id": "hf5eQo3EhyGl"
      },
      "source": [
        "# Main Functions"
      ]
    },
    {
      "cell_type": "code",
      "metadata": {
        "id": "sHKLraUMSCzN"
      },
      "source": [
        "# Coordinates need to be in the form of: \"lat1,long2 lat2,long2 lat3,long3\"\n",
        "# Example: \"38.99,-77.02 39.70,-104.80 47.6,-122.30\"\n",
        "\n",
        "def multiGrab(coordinates):\n",
        "  count = coordinates.count(\" \") + 1\n",
        "\n",
        "  seperate_coords = coordinates.split(\" \")\n",
        "  coords = []\n",
        "  for c in seperate_coords:\n",
        "    coords.append([float(x) for x in c.split(\",\")])\n",
        "\n",
        "  URL = \"http://graphical.weather.gov/xml/sample_products/browser_interface/ndfdXMLclient.php\"\n",
        "  # URL of NOAA servers\n",
        "\n",
        "  # Grab current UTC time\n",
        "  import time\n",
        "  epoch_time = time.time()\n",
        "  UTC_time = time.localtime(epoch_time)\n",
        "\n",
        "  # Query setup for REST GET request\n",
        "  query = {\"listLatLon\": coordinates, # format: \"lat1,long1 lat2,long2 lat3,long3\" Note the spaces!\n",
        "         \"product\": \"time-series\",\n",
        "         \"Unit\": \"e\",\n",
        "         \"temp\": \"temp\",\n",
        "         \"rh\" : \"rh\",\n",
        "         \"wspd\" : \"wspd\",\n",
        "         \"begin\": f\"{UTC_time.tm_year}-{UTC_time.tm_mon}-{UTC_time.tm_mday}\" # Year, Month, Day\n",
        "         }\n",
        "\n",
        "  # GET data from servers\n",
        "  response = requests.get(URL, params=query)\n",
        "  dict_data = xmltodict.parse(response.content) # Convert XML format to dict (easier to work with)\n",
        "\n",
        "  # Navigate to relevant values in dict\n",
        "  ## head = dict_data['dwml']['data']\n",
        "  times = dict_data['dwml']['data']['time-layout']\n",
        "  parameters = dict_data['dwml']['data']['parameters']\n",
        "\n",
        "  return_values = []\n",
        "  \n",
        "  for i in range(count):\n",
        "    lat, longo = coords[i]\n",
        "    humidity = list(map(int, parameters[i]['humidity']['value']))\n",
        "    ftemp = list(map(float, parameters[i]['temperature']['value']))\n",
        "    ctemp = list(map(fahrenheitToCelsius, ftemp))\n",
        "    time = times[i]['start-valid-time']\n",
        "    wetBulb = list(map(calcWetBulb, ctemp, humidity))\n",
        "\n",
        "    data = {\n",
        "        'Time': time,\n",
        "        'Temperature': ftemp,\n",
        "        'Relative Humidity': humidity,\n",
        "        'Wet Bulb Temperature': wetBulb,\n",
        "        }\n",
        "    \n",
        "    df = pd.DataFrame(data=data)\n",
        "    return_values.append(((lat, longo), df))\n",
        "\n",
        "  return return_values"
      ],
      "execution_count": 13,
      "outputs": []
    },
    {
      "cell_type": "code",
      "metadata": {
        "id": "ApDzAhvpRCzq"
      },
      "source": [
        "# Zipcode should be in form of \"02464\"\n",
        "# Will grab relevent data from that specific zipcode\n",
        "def singleGrab(zipcode):\n",
        "  URL = \"http://graphical.weather.gov/xml/sample_products/browser_interface/ndfdXMLclient.php\"\n",
        "\n",
        "  import time\n",
        "  epoch_time = time.time()\n",
        "  UTC_time = time.localtime(epoch_time)\n",
        "\n",
        "  query = {\"zipCodeList\": zipcode,\n",
        "         \"product\": \"time-series\",\n",
        "         \"Unit\": \"e\",\n",
        "         \"temp\": \"temp\",\n",
        "         \"rh\" : \"rh\",\n",
        "         \"wspd\" : \"wspd\",\n",
        "         \"begin\": f\"{UTC_time.tm_year}-{UTC_time.tm_mon}-{UTC_time.tm_mday}\" # Year, Month, Day\n",
        "         }\n",
        "  \n",
        "  response = requests.get(URL, params=query)\n",
        "  dict_data = xmltodict.parse(response.content)\n",
        "\n",
        "  # dict_data['dwml']['data']\n",
        "  head = dict_data['dwml']['data']\n",
        "  parameters = dict_data['dwml']['data']['parameters']\n",
        "  lat = float(dict_data['dwml']['data']['location']['point']['@latitude'])\n",
        "  longo = float(dict_data['dwml']['data']['location']['point']['@longitude'])\n",
        "  humidity = dict_data['dwml']['data']['parameters']['humidity']['value']\n",
        "  temp = dict_data['dwml']['data']['parameters']['temperature']['value']\n",
        "  time = dict_data['dwml']['data']['time-layout']['start-valid-time']\n",
        "\n",
        "  data = {'Time': time,\n",
        "          'Temperature': temp,\n",
        "          'Relative Humidity': humidity}\n",
        "\n",
        "  df = pd.DataFrame(data=data)\n",
        "  # print(\"Humidty Count:\", len(humidity))\n",
        "  # print(\"Temp Count:\", len(temp))\n",
        "  # print(\"Time Count:\", len(time))\n",
        "\n",
        "  # print(f\"Zipcode: {zipcode}\")\n",
        "  # print(f\"Lat: {lat}, Long: {longo}\")\n",
        "  # print(df)\n",
        "\n",
        "  return((lat, longo), df)\n",
        "\n",
        "  # Add equation for cold bulb temp"
      ],
      "execution_count": 11,
      "outputs": []
    },
    {
      "cell_type": "markdown",
      "metadata": {
        "id": "fY4sXLQuhqtj"
      },
      "source": [
        "# Test Code:"
      ]
    },
    {
      "cell_type": "code",
      "metadata": {
        "id": "H1kan-CxS40c",
        "colab": {
          "base_uri": "https://localhost:8080/"
        },
        "outputId": "34ebe673-8fbf-4621-9fa0-e8ea383dcded"
      },
      "source": [
        "coor = \"38.99,-77.02 39.70,-104.80 47.6,-122.30\"\n",
        "\n",
        "multiGrab(coor)"
      ],
      "execution_count": 16,
      "outputs": [
        {
          "output_type": "execute_result",
          "data": {
            "text/plain": [
              "[                         Time  ...  Wet Bulb Temperature\n",
              " 0   2021-10-03T23:00:00-04:00  ...             19.643296\n",
              " 1   2021-10-04T02:00:00-04:00  ...             18.941183\n",
              " 2   2021-10-04T05:00:00-04:00  ...             18.713237\n",
              " 3   2021-10-04T08:00:00-04:00  ...             18.590509\n",
              " 4   2021-10-04T11:00:00-04:00  ...             20.596157\n",
              " 5   2021-10-04T14:00:00-04:00  ...             21.498680\n",
              " 6   2021-10-04T17:00:00-04:00  ...             21.078705\n",
              " 7   2021-10-04T20:00:00-04:00  ...             20.411396\n",
              " 8   2021-10-04T23:00:00-04:00  ...             20.010196\n",
              " 9   2021-10-05T02:00:00-04:00  ...             19.450708\n",
              " 10  2021-10-05T05:00:00-04:00  ...             18.891219\n",
              " 11  2021-10-05T08:00:00-04:00  ...             18.891219\n",
              " 12  2021-10-05T11:00:00-04:00  ...             20.700220\n",
              " 13  2021-10-05T14:00:00-04:00  ...             21.776862\n",
              " 14  2021-10-05T17:00:00-04:00  ...             21.249574\n",
              " 15  2021-10-05T20:00:00-04:00  ...             20.370133\n",
              " 16  2021-10-05T23:00:00-04:00  ...             20.010196\n",
              " 17  2021-10-06T02:00:00-04:00  ...             19.450708\n",
              " 18  2021-10-06T05:00:00-04:00  ...             18.891219\n",
              " 19  2021-10-06T08:00:00-04:00  ...             18.891219\n",
              " 20  2021-10-06T11:00:00-04:00  ...             19.692612\n",
              " 21  2021-10-06T14:00:00-04:00  ...             20.027668\n",
              " 22  2021-10-06T17:00:00-04:00  ...             20.027668\n",
              " 23  2021-10-06T20:00:00-04:00  ...             19.265536\n",
              " 24  2021-10-07T02:00:00-04:00  ...             18.331730\n",
              " 25  2021-10-07T08:00:00-04:00  ...             17.772241\n",
              " 26  2021-10-07T14:00:00-04:00  ...             19.792852\n",
              " 27  2021-10-07T20:00:00-04:00  ...             18.590509\n",
              " 28  2021-10-08T02:00:00-04:00  ...             18.331730\n",
              " 29  2021-10-08T08:00:00-04:00  ...             17.772241\n",
              " 30  2021-10-08T14:00:00-04:00  ...             19.532412\n",
              " 31  2021-10-08T20:00:00-04:00  ...             18.769743\n",
              " 32  2021-10-09T02:00:00-04:00  ...             17.849324\n",
              " 33  2021-10-09T08:00:00-04:00  ...             17.212751\n",
              " 34  2021-10-09T14:00:00-04:00  ...             19.000539\n",
              " 35  2021-10-09T20:00:00-04:00  ...             18.039457\n",
              " 36  2021-10-10T02:00:00-04:00  ...             17.212751\n",
              " 37  2021-10-10T08:00:00-04:00  ...             16.653261\n",
              " 38  2021-10-10T14:00:00-04:00  ...             19.667706\n",
              " 39  2021-10-10T20:00:00-04:00  ...             18.222525\n",
              " \n",
              " [40 rows x 4 columns],\n",
              "                          Time  ...  Wet Bulb Temperature\n",
              " 0   2021-10-03T21:00:00-06:00  ...              7.735954\n",
              " 1   2021-10-04T00:00:00-06:00  ...              6.127037\n",
              " 2   2021-10-04T03:00:00-06:00  ...              4.921694\n",
              " 3   2021-10-04T06:00:00-06:00  ...              4.552894\n",
              " 4   2021-10-04T09:00:00-06:00  ...              7.658156\n",
              " 5   2021-10-04T12:00:00-06:00  ...             10.919603\n",
              " 6   2021-10-04T15:00:00-06:00  ...             11.345718\n",
              " 7   2021-10-04T18:00:00-06:00  ...             10.919603\n",
              " 8   2021-10-04T21:00:00-06:00  ...              8.433255\n",
              " 9   2021-10-05T00:00:00-06:00  ...              7.338990\n",
              " 10  2021-10-05T03:00:00-06:00  ...              5.941163\n",
              " 11  2021-10-05T06:00:00-06:00  ...              5.101255\n",
              " 12  2021-10-05T09:00:00-06:00  ...              8.029210\n",
              " 13  2021-10-05T12:00:00-06:00  ...             11.788758\n",
              " 14  2021-10-05T15:00:00-06:00  ...             13.128653\n",
              " 15  2021-10-05T18:00:00-06:00  ...             12.344245\n",
              " 16  2021-10-05T21:00:00-06:00  ...              9.703461\n",
              " 17  2021-10-06T00:00:00-06:00  ...              8.717608\n",
              " 18  2021-10-06T03:00:00-06:00  ...              7.516319\n",
              " 19  2021-10-06T06:00:00-06:00  ...              6.617939\n",
              " 20  2021-10-06T09:00:00-06:00  ...              8.812192\n",
              " 21  2021-10-06T12:00:00-06:00  ...             12.320206\n",
              " 22  2021-10-06T15:00:00-06:00  ...             13.397133\n",
              " 23  2021-10-06T18:00:00-06:00  ...             12.574579\n",
              " 24  2021-10-07T00:00:00-06:00  ...              9.138221\n",
              " 25  2021-10-07T06:00:00-06:00  ...              7.155148\n",
              " 26  2021-10-07T12:00:00-06:00  ...             11.904293\n",
              " 27  2021-10-07T18:00:00-06:00  ...             11.962819\n",
              " 28  2021-10-08T00:00:00-06:00  ...              7.902271\n",
              " 29  2021-10-08T06:00:00-06:00  ...              6.303581\n",
              " 30  2021-10-08T12:00:00-06:00  ...             11.593578\n",
              " 31  2021-10-08T18:00:00-06:00  ...             11.401400\n",
              " 32  2021-10-09T00:00:00-06:00  ...              7.543032\n",
              " 33  2021-10-09T06:00:00-06:00  ...              5.930658\n",
              " 34  2021-10-09T12:00:00-06:00  ...             10.329547\n",
              " 35  2021-10-09T18:00:00-06:00  ...             10.427320\n",
              " 36  2021-10-10T00:00:00-06:00  ...              6.345601\n",
              " 37  2021-10-10T06:00:00-06:00  ...              3.694344\n",
              " 38  2021-10-10T12:00:00-06:00  ...              7.970011\n",
              " 39  2021-10-10T18:00:00-06:00  ...              8.570601\n",
              " \n",
              " [40 rows x 4 columns],\n",
              "                          Time  ...  Wet Bulb Temperature\n",
              " 0   2021-10-03T20:00:00-07:00  ...              9.223207\n",
              " 1   2021-10-03T23:00:00-07:00  ...              8.694354\n",
              " 2   2021-10-04T02:00:00-07:00  ...              8.462022\n",
              " 3   2021-10-04T05:00:00-07:00  ...              8.519953\n",
              " 4   2021-10-04T08:00:00-07:00  ...              8.760783\n",
              " 5   2021-10-04T11:00:00-07:00  ...             10.801416\n",
              " 6   2021-10-04T14:00:00-07:00  ...             11.180449\n",
              " 7   2021-10-04T17:00:00-07:00  ...             10.995960\n",
              " 8   2021-10-04T20:00:00-07:00  ...              9.443574\n",
              " 9   2021-10-04T23:00:00-07:00  ...              9.223207\n",
              " 10  2021-10-05T02:00:00-07:00  ...              8.995396\n",
              " 11  2021-10-05T05:00:00-07:00  ...              9.061849\n",
              " 12  2021-10-05T08:00:00-07:00  ...              9.061849\n",
              " 13  2021-10-05T11:00:00-07:00  ...             10.373930\n",
              " 14  2021-10-05T14:00:00-07:00  ...             10.062140\n",
              " 15  2021-10-05T17:00:00-07:00  ...             10.062140\n",
              " 16  2021-10-05T20:00:00-07:00  ...              8.760783\n",
              " 17  2021-10-05T23:00:00-07:00  ...              8.519953\n",
              " 18  2021-10-06T02:00:00-07:00  ...              8.273441\n",
              " 19  2021-10-06T05:00:00-07:00  ...              8.372502\n",
              " 20  2021-10-06T08:00:00-07:00  ...              8.273441\n",
              " 21  2021-10-06T11:00:00-07:00  ...              9.546233\n",
              " 22  2021-10-06T14:00:00-07:00  ...              9.448442\n",
              " 23  2021-10-06T17:00:00-07:00  ...              8.932601\n",
              " 24  2021-10-06T23:00:00-07:00  ...              6.578930\n",
              " 25  2021-10-07T05:00:00-07:00  ...              6.352365\n",
              " 26  2021-10-07T11:00:00-07:00  ...              8.395282\n",
              " 27  2021-10-07T17:00:00-07:00  ...              8.627661\n",
              " 28  2021-10-07T23:00:00-07:00  ...              6.485215\n",
              " 29  2021-10-08T05:00:00-07:00  ...              6.258624\n",
              " 30  2021-10-08T11:00:00-07:00  ...              8.494760\n",
              " 31  2021-10-08T17:00:00-07:00  ...              8.627661\n",
              " 32  2021-10-08T23:00:00-07:00  ...              6.767269\n",
              " 33  2021-10-09T05:00:00-07:00  ...              7.018313\n",
              " 34  2021-10-09T11:00:00-07:00  ...              9.939132\n",
              " 35  2021-10-09T17:00:00-07:00  ...             10.280912\n",
              " 36  2021-10-09T23:00:00-07:00  ...              8.760783\n",
              " 37  2021-10-10T05:00:00-07:00  ...              8.973236\n",
              " 38  2021-10-10T11:00:00-07:00  ...             11.003033\n",
              " 39  2021-10-10T17:00:00-07:00  ...              9.752060\n",
              " \n",
              " [40 rows x 4 columns]]"
            ]
          },
          "metadata": {},
          "execution_count": 16
        }
      ]
    },
    {
      "cell_type": "code",
      "metadata": {
        "colab": {
          "base_uri": "https://localhost:8080/"
        },
        "id": "yD5ayYFTbZ9Y",
        "outputId": "7493d075-67f0-48b6-cf5d-b1bb1d3bd6b9"
      },
      "source": [
        "fahrenheitToCelsius(100)"
      ],
      "execution_count": 8,
      "outputs": [
        {
          "output_type": "execute_result",
          "data": {
            "text/plain": [
              "37.77777777777778"
            ]
          },
          "metadata": {},
          "execution_count": 8
        }
      ]
    },
    {
      "cell_type": "code",
      "metadata": {
        "colab": {
          "base_uri": "https://localhost:8080/"
        },
        "id": "hkOhmMktaq--",
        "outputId": "2b505751-e7dd-42c2-fb69-50acc47f1cb4"
      },
      "source": [
        "calcWetBulb(37, 99)"
      ],
      "execution_count": 9,
      "outputs": [
        {
          "output_type": "execute_result",
          "data": {
            "text/plain": [
              "36.970520098182874"
            ]
          },
          "metadata": {},
          "execution_count": 9
        }
      ]
    },
    {
      "cell_type": "code",
      "metadata": {
        "id": "LYteQCMJRa4m",
        "colab": {
          "base_uri": "https://localhost:8080/"
        },
        "outputId": "bbbf9220-865d-4c57-da9b-e8b8f8a133c4"
      },
      "source": [
        "singleGrab(\"02464\")"
      ],
      "execution_count": 10,
      "outputs": [
        {
          "output_type": "execute_result",
          "data": {
            "text/plain": [
              "((42.31, -71.22),                          Time Temperature Relative Humidity\n",
              " 0   2021-10-03T23:00:00-04:00          59                96\n",
              " 1   2021-10-04T02:00:00-04:00          58               100\n",
              " 2   2021-10-04T05:00:00-04:00          58               100\n",
              " 3   2021-10-04T08:00:00-04:00          57                96\n",
              " 4   2021-10-04T11:00:00-04:00          57                93\n",
              " 5   2021-10-04T14:00:00-04:00          58                93\n",
              " 6   2021-10-04T17:00:00-04:00          57                96\n",
              " 7   2021-10-04T20:00:00-04:00          57                97\n",
              " 8   2021-10-04T23:00:00-04:00          56               100\n",
              " 9   2021-10-05T02:00:00-04:00          56               100\n",
              " 10  2021-10-05T05:00:00-04:00          56                96\n",
              " 11  2021-10-05T08:00:00-04:00          56                93\n",
              " 12  2021-10-05T11:00:00-04:00          58                97\n",
              " 13  2021-10-05T14:00:00-04:00          59                90\n",
              " 14  2021-10-05T17:00:00-04:00          59                90\n",
              " 15  2021-10-05T20:00:00-04:00          56                97\n",
              " 16  2021-10-05T23:00:00-04:00          55                96\n",
              " 17  2021-10-06T02:00:00-04:00          55                96\n",
              " 18  2021-10-06T05:00:00-04:00          54                93\n",
              " 19  2021-10-06T08:00:00-04:00          54               100\n",
              " 20  2021-10-06T11:00:00-04:00          62                78\n",
              " 21  2021-10-06T14:00:00-04:00          66                70\n",
              " 22  2021-10-06T17:00:00-04:00          65                73\n",
              " 23  2021-10-06T20:00:00-04:00          59                87\n",
              " 24  2021-10-07T02:00:00-04:00          55                93\n",
              " 25  2021-10-07T08:00:00-04:00          55                97\n",
              " 26  2021-10-07T14:00:00-04:00          71                61\n",
              " 27  2021-10-07T20:00:00-04:00          61                90\n",
              " 28  2021-10-08T02:00:00-04:00          56               100\n",
              " 29  2021-10-08T08:00:00-04:00          56                96\n",
              " 30  2021-10-08T14:00:00-04:00          69                68\n",
              " 31  2021-10-08T20:00:00-04:00          61                87\n",
              " 32  2021-10-09T02:00:00-04:00          57                93\n",
              " 33  2021-10-09T08:00:00-04:00          56                97\n",
              " 34  2021-10-09T14:00:00-04:00          66                73\n",
              " 35  2021-10-09T20:00:00-04:00          60                90\n",
              " 36  2021-10-10T02:00:00-04:00          58                97\n",
              " 37  2021-10-10T08:00:00-04:00          58               100\n",
              " 38  2021-10-10T14:00:00-04:00          68                78\n",
              " 39  2021-10-10T20:00:00-04:00          64                90)"
            ]
          },
          "metadata": {},
          "execution_count": 10
        }
      ]
    },
    {
      "cell_type": "markdown",
      "metadata": {
        "id": "-b2dd1lTh94F"
      },
      "source": [
        "Credits:\n",
        "*   [Graphical Weather Gov Documentation](https://graphical.weather.gov/xml/rest.php)\n",
        "*   [Stack Overflow: Download Weather Data by Zipcode](https://stackoverflow.com/questions/26760616/download-weather-data-by-zip-code-tabulate-area-in-r)\n",
        "\n"
      ]
    },
    {
      "cell_type": "markdown",
      "metadata": {
        "id": "sxcs1UToiu-A"
      },
      "source": [
        ""
      ]
    }
  ]
}